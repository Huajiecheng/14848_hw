{
 "cells": [
  {
   "cell_type": "code",
   "execution_count": 18,
   "id": "7b2747ec",
   "metadata": {},
   "outputs": [
    {
     "name": "stderr",
     "output_type": "stream",
     "text": [
      "                                                                                \r"
     ]
    }
   ],
   "source": [
    "import sys\n",
    "from pyspark import SparkContext, SparkConf\n",
    "conf = SparkConf()\n",
    "# create Spark context with necessary configuration\n",
    "sc = SparkContext.getOrCreate(conf=conf)\n",
    "stop_words = [\"they\", \"she\", \"he\", \"it\", \"the\", \"as\", \"is\", \"and\"]\n",
    "results_rdd = sc.wholeTextFiles(\"./Data/*/*\")\\\n",
    "              .flatMap(lambda contents:[((word, contents[0]), 1) for word in contents[1].lower().split(\" \")])\\\n",
    "              .filter(lambda x: x[0][0] not in stop_words).reduceByKey(lambda a,b: a+b)\\\n",
    "              .map(lambda file: (file[0][0],[(file[0][1],file[1])])).reduceByKey(lambda a,b: a+b)\n",
    "\n",
    "results_rdd.coalesce(1).saveAsTextFile(\"output\")\n",
    "\n"
   ]
  },
  {
   "cell_type": "code",
   "execution_count": null,
   "id": "20dc9877",
   "metadata": {},
   "outputs": [],
   "source": []
  },
  {
   "cell_type": "code",
   "execution_count": null,
   "id": "1c667f43",
   "metadata": {},
   "outputs": [],
   "source": []
  }
 ],
 "metadata": {
  "kernelspec": {
   "display_name": "Python 3 (ipykernel)",
   "language": "python",
   "name": "python3"
  },
  "language_info": {
   "codemirror_mode": {
    "name": "ipython",
    "version": 3
   },
   "file_extension": ".py",
   "mimetype": "text/x-python",
   "name": "python",
   "nbconvert_exporter": "python",
   "pygments_lexer": "ipython3",
   "version": "3.9.7"
  }
 },
 "nbformat": 4,
 "nbformat_minor": 5
}
